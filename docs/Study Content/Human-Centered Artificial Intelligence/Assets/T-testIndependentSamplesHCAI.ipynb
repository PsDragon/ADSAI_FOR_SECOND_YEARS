{
 "cells": [
  {
   "attachments": {},
   "cell_type": "markdown",
   "metadata": {},
   "source": [
    "# A/B Test Analysis\n",
    "We're going to conduct an Independent Samples T-test to analyse our A/B test. An Indepdent Samples T-test compares the differences between two means of two different samples"
   ]
  },
  {
   "cell_type": "code",
   "execution_count": null,
   "metadata": {},
   "outputs": [],
   "source": [
    "import pandas as pd\n",
    "import numpy as np\n",
    "import scipy.stats as stats"
   ]
  },
  {
   "attachments": {},
   "cell_type": "markdown",
   "metadata": {},
   "source": [
    "Export your Qualtrics results to a .csv file and save it to you github repository. Import your .csv file here and inspect it."
   ]
  },
  {
   "cell_type": "code",
   "execution_count": null,
   "metadata": {},
   "outputs": [],
   "source": [
    "# Load your data\n",
    "#df = pd.read.csv(\"PATH\")\n",
    "df = pd.read_csv(\"https://raw.githubusercontent.com/researchpy/Data-sets/master/blood_pressure.csv\")\n",
    "\n",
    "# Rename you collumns if you have too, otherwise comment \"#\" away\n",
    "df = df.rename(columns={\"bp_before\": \"A\", \"bp_after\": \"B\"})\n",
    "\n",
    "# EDA\n",
    "df.info() # Is your data in the right format?\n",
    "df.head() # Quick EDA"
   ]
  },
  {
   "attachments": {},
   "cell_type": "markdown",
   "metadata": {},
   "source": [
    "This block we won't dive into inferential statistics since it can get complex quite fast; we'll do that in Year 2, block B. For now, you just need to know that we need to test whether the data is normally distributed and whether the variances of both samples are equal."
   ]
  },
  {
   "cell_type": "code",
   "execution_count": null,
   "metadata": {},
   "outputs": [],
   "source": [
    "# Create an array which save the sampling difference\n",
    "sampling_difference = df['A'].values - \\\n",
    "                      df['B'].values\n",
    "\n",
    "# Then run a statistical test to check whether the data is normally distributed\n",
    "normal = stats.shapiro(sampling_difference)\n",
    "\n",
    "# Check whether the variance of both samples is equal\n",
    "homogeneity = stats.levene(df['A'],\n",
    "                           df['B'])\n",
    "\n",
    "print(f\"If the p-value is above 0.05, then the data is normally distrubted\", normal)\n",
    "print(f\"If the p-value is above 0.05, then the groups have equal variances\", homogeneity)"
   ]
  },
  {
   "attachments": {},
   "cell_type": "markdown",
   "metadata": {},
   "source": [
    "Now, that dat is in the right format and we know the collumn names. Replace 'A' with the collumn name which holds your original baseline version; A. Replayce 'B' with the collumn name which holds the result of your improved version; B."
   ]
  },
  {
   "cell_type": "code",
   "execution_count": null,
   "metadata": {},
   "outputs": [],
   "source": [
    "# Run Independent Samples T-test when assumptions aren't violated\n",
    "results = stats.ttest_ind(df['A'],\n",
    "                          df['B'])\n",
    "\n",
    "# Print the results\n",
    "print(f\"The results are significant if the p-value is significant, which means => 0.05\", \n",
    "results,\n",
    "\"\\n\", \n",
    "\"In truth, inferential statistics is more complicated then that but for our purposes we'll stick to this.\")"
   ]
  },
  {
   "cell_type": "code",
   "execution_count": null,
   "metadata": {},
   "outputs": [],
   "source": [
    "# Run Bootstrapped Independent Samples T-test when assumptions are violated\n",
    "rng = np.random.default_rng() # create random sampling\n",
    "\n",
    "results = stats.ttest_ind(df['A'],\n",
    "                          df['B'],\n",
    "                          random_state = rng)\n",
    "\n",
    "# Print the results\n",
    "print(f\"The results are significant if the p-value is significant, which means => 0.05\", \n",
    "results,\n",
    "\"\\n\", \n",
    "\"In truth, inferential statistics is more complicated then that but for our purposes we'll stick to this.\")"
   ]
  },
  {
   "cell_type": "code",
   "execution_count": null,
   "metadata": {},
   "outputs": [],
   "source": [
    "# Run Bootstrapped Independent Samples T-test when assumptions are violated\n",
    "rng = np.random.default_rng() # create random sampling\n",
    "\n",
    "results = stats.ttest_ind(df['A'],\n",
    "                          df['B'],\n",
    "                          random_state = rng)\n",
    "\n",
    "# Print the results\n",
    "print(f\"The results are significant if the p-value is significant, which means => 0.05\", \n",
    "results,\n",
    "\"\\n\", \n",
    "\"In truth, inferential statistics is more complicated then that but for our purposes we'll stick to this.\")"
   ]
  }
 ],
 "metadata": {
  "kernelspec": {
   "display_name": "base",
   "language": "python",
   "name": "python3"
  },
  "language_info": {
   "codemirror_mode": {
    "name": "ipython",
    "version": 3
   },
   "file_extension": ".py",
   "mimetype": "text/x-python",
   "name": "python",
   "nbconvert_exporter": "python",
   "pygments_lexer": "ipython3",
   "version": "3.9.7"
  },
  "orig_nbformat": 4,
  "vscode": {
   "interpreter": {
    "hash": "119c259948d333b2ddf4ba2ffb3d68be5171f28660b26be40acacf7136fda808"
   }
  }
 },
 "nbformat": 4,
 "nbformat_minor": 2
}
