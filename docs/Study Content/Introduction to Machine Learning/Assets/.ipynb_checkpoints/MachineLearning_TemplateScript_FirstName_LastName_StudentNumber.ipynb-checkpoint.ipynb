{
 "cells": [
  {
   "cell_type": "markdown",
   "id": "b96a09e1",
   "metadata": {},
   "source": [
    "# *Machine Learning Introduction*\n",
    "\n",
    "\n",
    "## User Guide\n",
    "- Every datalab you will apply a newly learned machine learning algorithm to the Oosterhout dataset to create a model which fits your research problem; preferably also your research question.\n",
    "- The code for the full final model will go in this file and into the corresponding cell under the corresponding heading. So a multiple linear regression model should go in the cell under the heading 'Multiple Linear Regression'. \n",
    "- Only this file will be considered for grading so make sure to fill it in neat and extensively. \n",
    "- Don't include any redundant code, this is not a notepad. You can make note-cells or testing blocks in this file but delete them before handing in; you can make a duplicate of this file as well if you prefer working like that.\n",
    "- Please fill in you student number and name. In this class there are no students called: 'FirstName', 'LastName' or students with the following student number: 'StudentNumber', we checked.\n",
    "- Change the 'StudentTemplate' section in the title to 'OosterhoutModels'.\n"
   ]
  },
  {
   "cell_type": "code",
   "execution_count": null,
   "id": "1658ce4f",
   "metadata": {},
   "outputs": [],
   "source": [
    "# Load libraries\n",
    "import numpy as np\n",
    "import sklearn as sk\n",
    "import pandas as pd\n",
    "\n",
    "# Import data\n",
    "data = pd.read_csv(\"your csv file(s) and its path\") # please call your data 'data' to distinguish the source file from PowerBI\n"
   ]
  },
  {
   "cell_type": "markdown",
   "id": "d29d8a2b",
   "metadata": {},
   "source": [
    "# Multiple Linear Regression\n",
    "\n",
    "1) Load in the youthcare dataset you created in Business Intelligence. Then save your file to your GitHub repository.\n",
    "2) Open your research design and use in-line comments to  formulate a logistic regression; or classification, analysis based on your research question (or when not answerable using this type of analysis: perform an analysis related to your research question). Start by listing the variables which you think could predict the outcome variable you're interested in and motivate why you think they might predict your outcome variable.\n",
    "3) Create your fully fitted model (so the model containing all variables you wrote down in step 2) under the python code you just wrote.\n",
    "4) Test, re-fit and validate your model. Create a new model on a new line for every re-fit. Keep track of any predictor variables you exclude from the full model when re-fitting. Motivate why you are excluding; or including new variables using in-line comments.\n",
    "5) Continue till 16:00, or stop when you feel you can no longer improve the model. Then save your file to your GitHub repository. You can also continue after the datalab where we joinly do this ofcourse!"
   ]
  },
  {
   "cell_type": "code",
   "execution_count": null,
   "id": "11d08713",
   "metadata": {},
   "outputs": [],
   "source": [
    "# Multiple Linear Regression model to answer the research question:\n",
    "# [Your, potentially iterated, RQ goes here]\n",
    "\n",
    "some code"
   ]
  },
  {
   "cell_type": "markdown",
   "id": "269237f8",
   "metadata": {},
   "source": [
    "# Classification Analysis: Logistic Regression\n",
    "\n",
    "1. Load in the youthcare dataset you created in Business Intelligence if you haven't done so already. Load in any other data you might need. Then save your file to your GitHub repository.\n",
    "2. Open your research design and use in-line comments to  formulate a logistic regression; or classification, analysis based on your research question (or when not answerable using this type of analysis: perform an analysis related to your research question). Start by listing the variables which you think could predict the outcome variable you're interested in and motivate why you think they might predict your outcome variable.\n",
    "3. Create your fully fitted model (so the model containing all variables you wrote down in step 2) under the python code you just wrote.\n",
    "4. Test, re-fit and validate your model. Create a new model on a new line for every re-fit. Keep track of any predictor variables you exclude from the full model when re-fitting. Motivate why you are excluding; or including new variables using in-line comments.\n",
    "5. Continue till 16:00, or stop when you feel you can no longer improve the model. Then save your file to your GitHub repository."
   ]
  },
  {
   "cell_type": "code",
   "execution_count": null,
   "id": "9383d5ca",
   "metadata": {},
   "outputs": [],
   "source": [
    "# Logistic Regression model to answer the research question:\n",
    "# [Your, potentially iterated, RQ goes here]\n",
    "\n",
    "some code"
   ]
  },
  {
   "cell_type": "markdown",
   "id": "4d4b0bd3",
   "metadata": {},
   "source": [
    "# Decision Trees\n",
    "\n",
    "1. Load in the youthcare dataset you created in Business Intelligence if you haven't done so already. Load in any other data you might need. Then save your file to your GitHub repository.\n",
    "2. Open your research design and use in-line comments to  formulate a classification analysis using decision trees based on your research question (or when not answerable using this type of analysis: perform an analysis related to your research question). Start by listing the variables which you think could predict the outcome variable you're interested in and motivate why you think they might predict your outcome variable.\n",
    "3. Create your fully fitted model (so the model containing all variables you wrote down in step 2) under the python code you just wrote.\n",
    "4. Test, re-fit and validate your model. Create a new model on a new line for every re-fit. Keep track of any predictor variables you exclude from the full model when re-fitting. Motivate why you are excluding; or including new variables using in-line comments.\n",
    "5. Continue till 16:00, or stop when you feel you can no longer improve the model. Then save your file to your GitHub repository."
   ]
  },
  {
   "cell_type": "code",
   "execution_count": null,
   "id": "8d034121",
   "metadata": {},
   "outputs": [],
   "source": [
    "# Decision Tree model to answer the research question:\n",
    "# [Your, potentially iterated, RQ goes here]\n",
    "\n",
    "some code"
   ]
  },
  {
   "cell_type": "markdown",
   "id": "cc28fb2f",
   "metadata": {},
   "source": [
    "# Cluster Analysis\n",
    "\n",
    "1. Load in the youthcare dataset you created in Business Intelligence if you haven't done so already. Load in any other data you might need. Then save your file to your GitHub repository.\n",
    "2. Open your research design and use in-line comments to  formulate a classification analysis using cluster analysis based on your research question (or when not answerable using this type of analysis: perform an analysis related to your research question). Start by listing the variables which you think could predict the outcome variable you're interested in and motivate why you think they might predict your outcome variable.\n",
    "3. Create your fully fitted model (so the model containing all variables you wrote down in step 2) under the python code you just wrote.\n",
    "4. Test, re-fit and validate your model. Create a new model on a new line for every re-fit. Keep track of any predictor variables you exclude from the full model when re-fitting. Motivate why you are excluding; or including new variables using in-line comments.\n",
    "5. Continue till 16:00, or stop when you feel you can no longer improve the model. Then save your file to your GitHub repository."
   ]
  },
  {
   "cell_type": "code",
   "execution_count": null,
   "id": "5a4d8d41",
   "metadata": {},
   "outputs": [],
   "source": [
    "# Clustering model to answer the research question:\n",
    "# [Your, potentially iterated, RQ goes here]\n",
    "\n",
    "some code"
   ]
  },
  {
   "cell_type": "markdown",
   "id": "a318a942",
   "metadata": {},
   "source": [
    "# Perceptron\n",
    "All fear the mighty perceptron!\n",
    "\n",
    "1. Load in the youthcare dataset you created in Business Intelligence if you haven't done so already. Load in any other data you might need. Then save your file to your GitHub repository.\n",
    "2. Open your research design and use in-line comments to  formulate a classification analysis using the perceptron algorithm based on your research question (or when not answerable using this type of analysis: perform an analysis related to your research question). Start by listing the variables which you think could predict the outcome variable you're interested in and motivate why you think they might predict your outcome variable.\n",
    "3. Implement the perceptron algorithm. You can either choose to use the Python code from Codecademy, which implements the original perceptron by Rosenblatt or you can use the scikit-learn function ([linear_model.Perceptron()](https://scikit-learn.org/stable/modules/generated/sklearn.linear_model.Perceptron.html)), which implements a more modern version of the perceptron (see Additional material section!).   \n",
    "4. Test, re-fit and validate your model. Create a new model on a new line for every re-fit. Keep track of any predictor variables you exclude from the full model when re-fitting. Motivate why you are excluding; or including new variables using in-line comments.\n",
    "5. Continue till 16:00, or stop when you feel you can no longer improve the model. Then save your file to your GitHub repository."
   ]
  },
  {
   "cell_type": "code",
   "execution_count": null,
   "id": "a393bb08",
   "metadata": {},
   "outputs": [],
   "source": [
    "# Clustering model to answer the research question:\n",
    "# [Your, potentially iterated, RQ goes here]\n",
    "\n",
    "some code"
   ]
  },
  {
   "cell_type": "markdown",
   "id": "c60873f9",
   "metadata": {},
   "source": [
    "# Model selected for grading\n",
    "Which model answer your research question best? Or which one is the most insightful? Select one, insert it below and motivate your answer in the section below:\n",
    "\n",
    "--motivation for model selection goes here--"
   ]
  },
  {
   "cell_type": "code",
   "execution_count": null,
   "id": "25687667",
   "metadata": {},
   "outputs": [],
   "source": [
    "# Your final model to answer the research question:\n",
    "# [Your, potentially iterated, RQ goes here]\n",
    "\n",
    "some code"
   ]
  },
  {
   "cell_type": "markdown",
   "id": "eaee79f8",
   "metadata": {},
   "source": [
    "# That's all folks! "
   ]
  }
 ],
 "metadata": {
  "kernelspec": {
   "display_name": "Python 3 (ipykernel)",
   "language": "python",
   "name": "python3"
  },
  "language_info": {
   "codemirror_mode": {
    "name": "ipython",
    "version": 3
   },
   "file_extension": ".py",
   "mimetype": "text/x-python",
   "name": "python",
   "nbconvert_exporter": "python",
   "pygments_lexer": "ipython3",
   "version": "3.9.7"
  }
 },
 "nbformat": 4,
 "nbformat_minor": 5
}
