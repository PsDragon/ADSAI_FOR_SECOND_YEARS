{
 "cells": [
  {
   "attachments": {},
   "cell_type": "markdown",
   "metadata": {},
   "source": [
    "# Example: Checking Compute Targets 🖥️ and Registering Environments 🐳\n",
    "\n",
    "We will follow the following steps:\n",
    "\n",
    "1. Checking available Compute Targets in your Azure Machine Learning Workspace\n",
    "2. Creating a Docker-based environment for our Machine Learning tasks\n",
    "3. Registering the created environment to be used across different experiments and pipelines \n",
    "4. Checking the registered environments in your Azure Machine Learning Workspace\n",
    "\n",
    "Let's get started!\n"
   ]
  },
  {
   "attachments": {},
   "cell_type": "markdown",
   "metadata": {},
   "source": [
    "# Compute Targets in the Azure Machine Learning Workspace 🖥️\n",
    "\n",
    "Compute targets in Azure Machine Learning 🧪 are the resources or environments where you run your training scripts or host your service deployments. These can be local or cloud resources ☁️.\n",
    "\n",
    "Here is a some sample Python code on how to check the available Compute Targets in your Azure Machine Learning Workspace:"
   ]
  },
  {
   "attachments": {},
   "cell_type": "markdown",
   "metadata": {},
   "source": [
    "# Import Libraries and Set Up Workspace 🏗️\n",
    "\n",
    "As always, we start by importing the necessary libraries and setting up our Azure Machine Learning Workspace."
   ]
  },
  {
   "cell_type": "code",
   "execution_count": null,
   "metadata": {},
   "outputs": [],
   "source": [
    "from azureml.core import Workspace, Datastore\n",
    "from azureml.core.authentication import InteractiveLoginAuthentication\n",
    "from azureml.core import Dataset\n",
    "from azure.ai.ml import MLClient\n",
    "from azure.identity import InteractiveBrowserCredential\n",
    "\n",
    "subscription_id = #use your subscription id\n",
    "resource_group = #use your resource group\n",
    "workspace_name = #use your workspace name\n",
    "\n",
    "# Log in using interactive Auth\n",
    "auth = InteractiveLoginAuthentication()\n",
    "\n",
    "# Connect to workspace\n",
    "workspace = Workspace(subscription_id=subscription_id,\n",
    "                      resource_group=resource_group,\n",
    "                      workspace_name=workspace_name,\n",
    "                      auth=auth,\n",
    "                      )\n",
    "\n",
    "# Connect to the ML Client\n",
    "credential = InteractiveBrowserCredential()\n",
    "\n",
    "# Get a handle to the workspace\n",
    "ml_client = MLClient(\n",
    "    credential=credential,\n",
    "    subscription_id=subscription_id,\n",
    "    resource_group_name=resource_group,\n",
    "    workspace_name=workspace_name,\n",
    ")"
   ]
  },
  {
   "attachments": {},
   "cell_type": "markdown",
   "metadata": {},
   "source": [
    "# Inspect available compute targets 🎯\n"
   ]
  },
  {
   "cell_type": "code",
   "execution_count": null,
   "metadata": {},
   "outputs": [],
   "source": [
    "# Check for existing compute targets\n",
    "compute_targets = workspace.compute_targets\n",
    "\n",
    "for name, ct in compute_targets.items():\n",
    "    print(f'🖥️ {name}: {ct.type}, Provisioning state: {ct.provisioning_state}')"
   ]
  },
  {
   "attachments": {},
   "cell_type": "markdown",
   "metadata": {},
   "source": [
    "To use any of these compute targets in a command job or pipeline (more on these later) you just need the name of the compute target."
   ]
  },
  {
   "attachments": {},
   "cell_type": "markdown",
   "metadata": {},
   "source": [
    "## Step 3: Creating a Docker-based Environment for Our Machine Learning Tasks 🐳\n",
    "\n",
    "The environment in Azure Machine Learning is a named object that specifies the packages, environment variables, software settings, and hardware used for model training and scoring.\n",
    "\n",
    "In our case, we'll create a Docker-based environment, and we will specify some packages that we want to use in our machine learning tasks.\n",
    "\n",
    "Here's a Python sample on how to create a Docker-based environment:"
   ]
  },
  {
   "cell_type": "code",
   "execution_count": null,
   "metadata": {},
   "outputs": [],
   "source": [
    "from azureml.core import Environment\n",
    "from azureml.core.conda_dependencies import CondaDependencies\n",
    "from azureml.core.runconfig import DockerConfiguration\n",
    "\n",
    "# Create a new environment\n",
    "env = Environment(name=\"my_docker_environment\")\n",
    "\n",
    "# Create a base Docker image to use for the environment\n",
    "env.docker.base_dockerfile = \"\"\"\n",
    "FROM ubuntu:18.04\n",
    "RUN apt-get update && \\\n",
    "    apt-get install -y python3-pip && \\\n",
    "    pip3 install azureml-defaults\n",
    "\"\"\"\n",
    "\n",
    "# Create a new Conda dependencies object\n",
    "conda_dep = CondaDependencies.create(python_version=\"3.8\")\n",
    "\n",
    "# Add some package dependencies\n",
    "conda_dep.add_conda_package(\"numpy\")\n",
    "conda_dep.add_conda_package(\"pandas\")\n",
    "conda_dep.add_conda_package(\"scikit-learn\")\n",
    "\n",
    "# Add the dependencies to the environment\n",
    "env.python.conda_dependencies = conda_dep\n",
    "\n",
    "# Specify a Docker-based environment\n",
    "docker_config = DockerConfiguration(use_docker=True)\n",
    "\n",
    "# Register the environment to re-use later\n",
    "env.register(workspace)\n"
   ]
  },
  {
   "attachments": {},
   "cell_type": "markdown",
   "metadata": {},
   "source": [
    "In this script:\n",
    "\n",
    "- `Environment(name=\"my_docker_environment\")` is used to create a new environment.\n",
    "- `env.docker.enabled = True` and `env.python.version = \"3.8\"` are used to specify that we are using a Docker-based environment and set the Python version.\n",
    "- `conda_dep.add_conda_package(\"numpy\")` etc., are used to specify the packages we want to install in our environment.\n",
    "- `env.register(workspace)` is used to register the environment with the Azure Machine Learning Workspace, allowing us to reuse it in the future.\n",
    "\n",
    "There are several ways to create an environment in Azure Machine Learning. You can create an environment from:\n",
    "\n",
    "- A Conda or pip requirements file\n",
    "- A Conda environment YAML file\n",
    "- A Dockerfile\n",
    "- A curated list of packages\n",
    "\n",
    "You can also create an environment from an existing environment object, or from an existing Docker image.\n",
    "\n",
    "If you already have a Docker image that you want to use, you can create an environment from it using the following code:\n",
    "\n",
    "```python\n",
    "from azure.ai.ml.entities import Environment\n",
    "\n",
    "# Create a custom environment.\n",
    "custom_env_name = #your name here\n",
    "version = \"1.0.1\"\n",
    "\n",
    "env = Environment(\n",
    "    name=custom_env_name,\n",
    "    conda_file=#path to a condafile with dependencies not already installed in the base image,\n",
    "    image= #\"docker_user_name/docker_image_name:latest\",\n",
    "    version=version,\n",
    ")\n",
    "\n",
    "# Register the environment to the workspace.\n",
    "env.register(workspace=ws)\n",
    "```"
   ]
  },
  {
   "attachments": {},
   "cell_type": "markdown",
   "metadata": {},
   "source": [
    "# Checking the registered environments in your Azure Machine Learning Workspace ✅"
   ]
  },
  {
   "cell_type": "code",
   "execution_count": null,
   "metadata": {},
   "outputs": [],
   "source": [
    "# List all available environments.\n",
    "envs = ml_client.environments.list()\n",
    "for env in envs:\n",
    "    print(f\"Environment name: {env.name}, latest version: {env.latest_version}\")"
   ]
  },
  {
   "attachments": {},
   "cell_type": "markdown",
   "metadata": {},
   "source": [
    "The above code lists all the registered environments in your Azure Machine Learning Workspace. To use any of these environments in a command job or pipeline (more on these later) you just need the name of the environment."
   ]
  }
 ],
 "metadata": {
  "kernelspec": {
   "display_name": "keras",
   "language": "python",
   "name": "python3"
  },
  "language_info": {
   "codemirror_mode": {
    "name": "ipython",
    "version": 3
   },
   "file_extension": ".py",
   "mimetype": "text/x-python",
   "name": "python",
   "nbconvert_exporter": "python",
   "pygments_lexer": "ipython3",
   "version": "3.9.16"
  },
  "orig_nbformat": 4
 },
 "nbformat": 4,
 "nbformat_minor": 2
}
