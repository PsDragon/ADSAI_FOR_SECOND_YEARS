{
 "cells": [
  {
   "attachments": {},
   "cell_type": "markdown",
   "metadata": {},
   "source": [
    "# Example: Using a Datastore and Creating Versioned Datasets 📁\n",
    "\n",
    "Let's take an example of using the popular MNIST dataset in Azure ML. 🔢\n",
    "\n",
    "We will follow the following steps:\n",
    "\n",
    "1. Download the MNIST dataset\n",
    "2. Create a Datastore pointing to azure blob storage\n",
    "3. Upload the MNIST dataset to the Datastore\n",
    "4. Create a Train, Validate, and Test Data Assets pointing to the MNIST dataset in the Datastore\n",
    "\n",
    "Let's get started!"
   ]
  },
  {
   "attachments": {},
   "cell_type": "markdown",
   "metadata": {},
   "source": [
    "# The Data 🔢\n",
    "\n",
    "The MNIST dataset is a collection of 70,000 images of handwritten digits. It is a popular dataset used for image classification. The dataset is split into 60,000 training images and 10,000 test images. The images are grayscale and 28 x 28 pixels in size. The dataset also includes labels for each image, telling us which digit it is. We will work with a subset of the MNIST dataset for this example.\n",
    "\n",
    "To download the data you can just clone this repo or download the data as a zip and navigate to the data folder: https://github.com/BredaUniversityADSAI/MNIST-Data.git \n",
    "\n",
    "Extract the data to a folder called `data` in the same directory as this notebook."
   ]
  },
  {
   "attachments": {},
   "cell_type": "markdown",
   "metadata": {},
   "source": [
    "# Import Libraries and Set Up Workspace 🏗️"
   ]
  },
  {
   "cell_type": "code",
   "execution_count": null,
   "metadata": {},
   "outputs": [],
   "source": [
    "from azureml.core import Workspace, Datastore\n",
    "from azureml.core.authentication import InteractiveLoginAuthentication\n",
    "from azureml.core import Dataset\n",
    "\n",
    "subscription_id = #use your subscription id\n",
    "resource_group = #use your resource group\n",
    "workspace_name = #use your workspace name\n",
    "\n",
    "# Log in using interactive Auth\n",
    "auth = InteractiveLoginAuthentication()\n",
    "\n",
    "# Declare workspace & datastore.\n",
    "workspace = Workspace(subscription_id=subscription_id,\n",
    "                      resource_group=resource_group,\n",
    "                      workspace_name=workspace_name,\n",
    "                      auth=auth,\n",
    "                      )"
   ]
  },
  {
   "attachments": {},
   "cell_type": "markdown",
   "metadata": {},
   "source": [
    "# Inspect available data stores and upload data :outbox_tray: ☁️\n"
   ]
  },
  {
   "cell_type": "code",
   "execution_count": null,
   "metadata": {},
   "outputs": [],
   "source": [
    "# list all datastores registered in the current workspace\n",
    "datastores = workspace.datastores\n",
    "for name, datastore in datastores.items():\n",
    "    print(name, datastore.datastore_type)"
   ]
  },
  {
   "cell_type": "code",
   "execution_count": null,
   "metadata": {},
   "outputs": [],
   "source": [
    "# Create a datastore object from the existing datastore named \"workspaceblobstore\".\n",
    "datastore = Datastore(workspace, name='workspaceblobstore')\n",
    "\n",
    "# Upload the data to the path target_path in datastore\n",
    "datastore.upload(src_dir='data', target_path='mnist', overwrite=True, show_progress=True)"
   ]
  },
  {
   "attachments": {},
   "cell_type": "markdown",
   "metadata": {},
   "source": [
    "# Sample and plot images from the data store"
   ]
  },
  {
   "cell_type": "code",
   "execution_count": null,
   "metadata": {},
   "outputs": [],
   "source": [
    "# Create a FileDataset from a path to a directory.\n",
    "# The directory contains a folder per class, each of which contains image files.\n",
    "sample_set = Dataset.File.from_files(path=(datastore, 'mnist/train'))\n",
    "paths = sample_set.take_sample(0.001).take(30).download()\n",
    "print(paths)"
   ]
  },
  {
   "attachments": {},
   "cell_type": "markdown",
   "metadata": {},
   "source": [
    "### Challenge: Plot a sample of images from the data store in a grid with the corresponding labels\n"
   ]
  },
  {
   "cell_type": "code",
   "execution_count": null,
   "metadata": {},
   "outputs": [],
   "source": [
    "# Your code here\n"
   ]
  },
  {
   "attachments": {},
   "cell_type": "markdown",
   "metadata": {},
   "source": [
    "# Create and Register a Training, Validation and Test Dataset 📝\n",
    "\n",
    "Running the code below multiple times will create multiple versions of the dataset. You can see the versions in the UI."
   ]
  },
  {
   "cell_type": "code",
   "execution_count": null,
   "metadata": {},
   "outputs": [],
   "source": [
    "# Create a FileDataset from a path to a directory for the training data.\n",
    "train_set = Dataset.File.from_files(path=(datastore, 'mnist/train'))\n",
    "# Split the dataset into train and validation sets\n",
    "train_set, val_set = train_set.random_split(0.8, seed=123)\n",
    "# Create a FileDataset from a path to a directory for the test data.\n",
    "test_set = Dataset.File.from_files(path=(datastore, 'mnist/test'))\n",
    "\n",
    "#register the datasets\n",
    "train_reg = train_set.register(workspace=workspace, name='digits_train', description='training data', create_new_version=True)\n",
    "val_reg = val_set.register(workspace=workspace, name='digits_val', description='validation data', create_new_version=True)\n",
    "test_reg = test_set.register(workspace=workspace, name='digits_test', description='test data', create_new_version=True)\n"
   ]
  },
  {
   "cell_type": "code",
   "execution_count": null,
   "metadata": {},
   "outputs": [],
   "source": [
    "# list all datasets registered in the current workspace\n",
    "datasets = workspace.datasets\n",
    "for name, dataset in datasets.items():\n",
    "    print(name)"
   ]
  },
  {
   "attachments": {},
   "cell_type": "markdown",
   "metadata": {},
   "source": [
    "### Challenge: Try to print the version of the datasets as well.\n"
   ]
  },
  {
   "cell_type": "code",
   "execution_count": null,
   "metadata": {},
   "outputs": [],
   "source": [
    "# Your code here"
   ]
  }
 ],
 "metadata": {
  "kernelspec": {
   "display_name": "keras",
   "language": "python",
   "name": "python3"
  },
  "language_info": {
   "codemirror_mode": {
    "name": "ipython",
    "version": 3
   },
   "file_extension": ".py",
   "mimetype": "text/x-python",
   "name": "python",
   "nbconvert_exporter": "python",
   "pygments_lexer": "ipython3",
   "version": "3.9.16"
  },
  "orig_nbformat": 4
 },
 "nbformat": 4,
 "nbformat_minor": 2
}
