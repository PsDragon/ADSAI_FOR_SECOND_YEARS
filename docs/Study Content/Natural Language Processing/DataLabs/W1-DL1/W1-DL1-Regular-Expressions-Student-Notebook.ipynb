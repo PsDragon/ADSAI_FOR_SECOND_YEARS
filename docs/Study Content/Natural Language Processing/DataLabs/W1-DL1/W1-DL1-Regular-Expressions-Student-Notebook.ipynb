{
 "cells": [
  {
   "cell_type": "markdown",
   "id": "lasting-heavy",
   "metadata": {},
   "source": [
    "String methods such as `split()` are useful for extracting portions of a string."
   ]
  },
  {
   "cell_type": "code",
   "execution_count": null,
   "id": "acceptable-lawsuit",
   "metadata": {},
   "outputs": [],
   "source": [
    "string = '9 13 and 15 are odd numbers.'\n",
    "string.split()"
   ]
  },
  {
   "cell_type": "markdown",
   "id": "complimentary-works",
   "metadata": {},
   "source": [
    "This could be used to find the numbers in a string."
   ]
  },
  {
   "cell_type": "code",
   "execution_count": null,
   "id": "strange-treaty",
   "metadata": {},
   "outputs": [],
   "source": [
    "string = '9 13 and 15 are odd numbers.'\n",
    "numbers = []\n",
    "for item in string.split():\n",
    "    if item.isdigit():\n",
    "        numbers.append(item)\n",
    "print(numbers)"
   ]
  },
  {
   "cell_type": "markdown",
   "id": "alone-stake",
   "metadata": {},
   "source": [
    "But input data is typically not as simple. Let's run the solution above on the same string with a comma between 9 and 13."
   ]
  },
  {
   "cell_type": "code",
   "execution_count": null,
   "id": "northern-armenia",
   "metadata": {},
   "outputs": [],
   "source": [
    "string = '9, 13 and 15 are odd numbers.'\n",
    "numbers = []\n",
    "for item in string.split():\n",
    "    if item.isdigit():\n",
    "        numbers.append(item)\n",
    "print(numbers)"
   ]
  },
  {
   "cell_type": "markdown",
   "id": "generous-cycle",
   "metadata": {},
   "source": [
    "9 is missing because split returns `'9,'` instead of `'9'`."
   ]
  },
  {
   "cell_type": "code",
   "execution_count": null,
   "id": "forward-proportion",
   "metadata": {},
   "outputs": [],
   "source": [
    "string = '9, 13 and 15 are odd numbers.'\n",
    "string.split()[0]"
   ]
  },
  {
   "cell_type": "code",
   "execution_count": null,
   "id": "wrapped-contrary",
   "metadata": {},
   "outputs": [],
   "source": [
    "'9,'.isdigit()"
   ]
  },
  {
   "cell_type": "markdown",
   "id": "attempted-sellers",
   "metadata": {},
   "source": [
    "There are many ways to solve this issue. One way is to remove commas from the string."
   ]
  },
  {
   "cell_type": "code",
   "execution_count": null,
   "id": "divine-consent",
   "metadata": {},
   "outputs": [],
   "source": [
    "string = '9, 13 and 15 are odd numbers.'\n",
    "string_wo_comma = string.replace(',', '')\n",
    "numbers = []\n",
    "for item in string_wo_comma.split():\n",
    "    if item.isdigit():\n",
    "        numbers.append(item)\n",
    "print(numbers)"
   ]
  },
  {
   "cell_type": "markdown",
   "id": "controlling-freeze",
   "metadata": {},
   "source": [
    "But as more complexities arise, it will be harder to handle all using string methods. This task of searching and extracting is so common that Python has a very powerful\n",
    "module called *regular expressions* that handles many of these tasks quite elegantly.\n",
    "\n",
    "https://docs.python.org/3/library/re.html\n",
    "\n",
    "Let's start by importing the module `re`."
   ]
  },
  {
   "cell_type": "code",
   "execution_count": null,
   "id": "adjustable-ferry",
   "metadata": {},
   "outputs": [],
   "source": [
    "import re"
   ]
  },
  {
   "cell_type": "markdown",
   "id": "devoted-patent",
   "metadata": {},
   "source": [
    "Let's solve the above task using regular expressions."
   ]
  },
  {
   "cell_type": "code",
   "execution_count": null,
   "id": "velvet-prisoner",
   "metadata": {},
   "outputs": [],
   "source": [
    "string = '9, 13 and 15 are odd numbers.'\n",
    "pattern = '[0-9]+'\n",
    "re.findall(pattern, string)"
   ]
  },
  {
   "cell_type": "markdown",
   "id": "clean-briefing",
   "metadata": {},
   "source": [
    "No `for` loops, no `if` statements and it works even when you add complexity."
   ]
  },
  {
   "cell_type": "code",
   "execution_count": null,
   "id": "otherwise-process",
   "metadata": {},
   "outputs": [],
   "source": [
    "# Find the numbers in a string with regular expressions\n",
    "string = \"9, $13 and (15) are odd numbers.\"\n",
    "pattern = '[0-9]+'\n",
    "re.findall(pattern, string)"
   ]
  },
  {
   "cell_type": "markdown",
   "id": "developed-vinyl",
   "metadata": {},
   "source": [
    "This is the essence of regular expressions. We define a `pattern` and search that pattern inside a `string`.\n",
    "\n",
    "There are multiple functions in Python's regular expressions library. We will mostly use `re.findall()` in this DataLab but be aware of the others:\n",
    "\n",
    "https://docs.python.org/3/library/re.html#functions"
   ]
  },
  {
   "cell_type": "markdown",
   "id": "basic-monday",
   "metadata": {},
   "source": [
    "**But what is the meaning of the pattern `[0-9]+`?**\n",
    "\n",
    "While they are very powerful, they are a little complicated and their syntax takes\n",
    "some getting used to. Regular expressions are almost their own little programming language for searching and parsing strings.\n",
    "\n",
    "Regular expressions are made of special characters. These special characters **match** normal characters we are familiar with. For example `\\s` matches whitespace and `.` matches any character. Therefore `\\s...\\s` will match a sequence of three characters surrounded by spaces e.g. a three letter word.\n",
    "\n",
    "`[0-9]+` will be explained later."
   ]
  },
  {
   "cell_type": "code",
   "execution_count": null,
   "id": "disabled-replacement",
   "metadata": {},
   "outputs": [],
   "source": [
    "string = 'I am looking for three letter words.'\n",
    "pattern = '\\s...\\s'\n",
    "re.findall(pattern, string)"
   ]
  },
  {
   "cell_type": "markdown",
   "id": "jewish-replica",
   "metadata": {},
   "source": [
    "Here is a look at character level matches:\n",
    "\n",
    "| | | | | | |\n",
    "|:-:|:-:|:-:|:-:|:-:|:-:|\n",
    "| | | | | | |\n",
    "|Pattern|`\\s` |`.` |`. `|`.` |`\\s` |\n",
    "||&#8595;|&#8595;|&#8595;|&#8595;|&#8595;|\n",
    "|String|` ` | `f`|`o` |`r` |` ` |\n"
   ]
  },
  {
   "cell_type": "markdown",
   "id": "coordinated-litigation",
   "metadata": {},
   "source": [
    "But if the word is at the beginning or the end, it will not match."
   ]
  },
  {
   "cell_type": "code",
   "execution_count": null,
   "id": "different-experiment",
   "metadata": {},
   "outputs": [],
   "source": [
    "string = 'But if the word is at the beginning...'\n",
    "pattern = '\\s...\\s'\n",
    "re.findall(pattern, string)"
   ]
  },
  {
   "cell_type": "markdown",
   "id": "north-extension",
   "metadata": {},
   "source": [
    "Notice that `'But '` is not a match. Also notice that `re.findall()` can return multiple matches.\n",
    "\n",
    "Here is a look at character level too see why it does not match \"But\":\n",
    "\n",
    "| | | | | | |\n",
    "|:-:|:-:|:-:|:-:|:-:|:-:|\n",
    "| | | | | | |\n",
    "|Pattern|`\\s` |`.` |`. `|`.` |`\\s` |\n",
    "||&#10060;|&#8595;|&#8595;|&#8595;|&#8595;|\n",
    "|String|| `B`|`u` |`t` |` ` |\n"
   ]
  },
  {
   "cell_type": "code",
   "execution_count": null,
   "id": "concrete-bonus",
   "metadata": {},
   "outputs": [],
   "source": [
    "string = 'It will also match numbers like 123 but not 456'\n",
    "pattern = '\\s...\\s'\n",
    "re.findall(pattern, string)"
   ]
  },
  {
   "cell_type": "markdown",
   "id": "racial-tattoo",
   "metadata": {},
   "source": [
    "| | | | | | |\n",
    "|:-:|:-:|:-:|:-:|:-:|:-:|\n",
    "| | | | | | |\n",
    "|Pattern|`\\s` |`.` |`. `|`.` |`\\s` |\n",
    "||&#8595;|&#8595;|&#8595;|&#8595;|&#10060;|\n",
    "|String| ` `|`4` |`5` |`6` ||"
   ]
  },
  {
   "cell_type": "markdown",
   "id": "illegal-certificate",
   "metadata": {},
   "source": [
    "There are many more characters. There is no need to memorize them, you can use cheat sheets such as the one below. This is not exhaustive, but covers most common operations."
   ]
  },
  {
   "cell_type": "markdown",
   "id": "fifteen-southeast",
   "metadata": {},
   "source": [
    "**Regular Expressions Cheatsheet**\n",
    "\n",
    "| Character | Description |\n",
    "| --- | --- |\n",
    "|^|Matches the beginning of a line|\n",
    "|$|Matches the end of the line|\n",
    "|.|Matches any character|\n",
    "|\\s|Matches whitespace|\n",
    "|\\S|Matches any non-whitespace character|\n",
    "|\\*|Repeats a character zero or more times|\n",
    "|*?|Repeats a character zero or more times (non-greedy)|\n",
    "|\\+|Repeats a character one or more times|\n",
    "|+?|Repeats a character one or more times (non-greedy)|\n",
    "|[aeiou]|Matches a single character in the listed set|\n",
    "|[^XYZ]|Matches a single character not in the listed set|\n",
    "|[a-z0-9]|The set of characters can include a range|\n",
    "|(|Indicates where string extraction is to start|\n",
    "|)|Indicates where string extraction is to end|"
   ]
  },
  {
   "cell_type": "markdown",
   "id": "fixed-touch",
   "metadata": {},
   "source": [
    "Additionally, there are tools that explain what a given expression matches. These tools are very useful when working with regular expressions."
   ]
  },
  {
   "cell_type": "markdown",
   "id": "rational-cannon",
   "metadata": {},
   "source": [
    "**Task 1**\n",
    " - Go to https://regexr.com/\n",
    " - Enter the following regular expression:\n",
    "         \\s...\\s\n",
    " - Enter the following text:\n",
    "         I am looking for three letter words.\n",
    " - Check the explanation\n",
    " - Roll-over elements in the explanation to highlight in the expression above\n",
    " - Click on the elements to open them in reference on the left\n",
    " - **Use this tool from now on when you are in doubt**"
   ]
  },
  {
   "cell_type": "markdown",
   "id": "tutorial-samuel",
   "metadata": {},
   "source": [
    "Let's continue exploring more characters. In the previous example, you might have noticed whitespaces are returned."
   ]
  },
  {
   "cell_type": "code",
   "execution_count": null,
   "id": "discrete-immunology",
   "metadata": {},
   "outputs": [],
   "source": [
    "string = 'I am looking for three letter words.'\n",
    "pattern = '\\s...\\s'\n",
    "re.findall(pattern, string)"
   ]
  },
  {
   "cell_type": "markdown",
   "id": "further-superior",
   "metadata": {},
   "source": [
    "But we just want the word. We can wrap the section we want to be returned into parentheses.\n",
    "\n",
    "Parentheses are another special character in regular expressions. When you add\n",
    "parentheses to a regular expression, they are ignored when matching the string.\n",
    "But when you are using `re.findall()`, parentheses indicate that while you want the\n",
    "whole expression to match, you only are interested in extracting a portion of the\n",
    "substring that matches the regular expression."
   ]
  },
  {
   "cell_type": "code",
   "execution_count": null,
   "id": "exact-trick",
   "metadata": {},
   "outputs": [],
   "source": [
    "string = 'I am looking for three letter words.'\n",
    "pattern = '\\s(...)\\s'\n",
    "re.findall(pattern, string)"
   ]
  },
  {
   "cell_type": "markdown",
   "id": "golden-treaty",
   "metadata": {},
   "source": [
    "Now, let's understand the expression `[0-9]+` we saw previously.\n",
    "\n",
    "- The first step is to understands sets `[ ]`\n",
    "- The second step is to understand range `[0-9]`\n",
    "- The third step is to understand is the `+` character."
   ]
  },
  {
   "cell_type": "markdown",
   "id": "horizontal-investor",
   "metadata": {},
   "source": [
    "**Step 1:** A set matches a single character. For example the set `[0123456789]` matches `0` or `1` or `2` or `3` or `4` or `5` or `6` or `7` or `8` or `9`. It does not\n",
    "match `0123456789`."
   ]
  },
  {
   "cell_type": "code",
   "execution_count": null,
   "id": "biblical-stack",
   "metadata": {},
   "outputs": [],
   "source": [
    "# Find single digits\n",
    "string = '2, 5 and 7 are odd numbers.'\n",
    "pattern = '[0123456789]'\n",
    "re.findall(pattern, string)"
   ]
  },
  {
   "cell_type": "markdown",
   "id": "indonesian-hindu",
   "metadata": {},
   "source": [
    "| | | | | | |\n",
    "|:-:|:-:|:-:|:-:|:-:|:-:|\n",
    "| | | | | | |\n",
    "|Pattern|`[0123456789]` |\n",
    "||&#8595;|\n",
    "|String| `2`|"
   ]
  },
  {
   "cell_type": "markdown",
   "id": "logical-garage",
   "metadata": {},
   "source": [
    "What happens if the same pattern is applied to two-digit numbers?"
   ]
  },
  {
   "cell_type": "code",
   "execution_count": null,
   "id": "blocked-finger",
   "metadata": {},
   "outputs": [],
   "source": [
    "string = '11, 13 and 15 are odd numbers.'\n",
    "pattern = '[0123456789]'\n",
    "re.findall(pattern, string)"
   ]
  },
  {
   "cell_type": "markdown",
   "id": "modified-romance",
   "metadata": {},
   "source": [
    "Since the pattern `[0123456789]` matches single characters, it will match the digits in `11` but as two separate matches. Therefore the return is `['1', '1', ...]` instead of `['11', ...]`.\n",
    "\n",
    "To match two-digit numbers we can simply use the pattern twice."
   ]
  },
  {
   "cell_type": "code",
   "execution_count": null,
   "id": "distinct-region",
   "metadata": {},
   "outputs": [],
   "source": [
    "string = '11, 13 and 15 are odd numbers.'\n",
    "pattern = '[0123456789][0123456789]'\n",
    "re.findall(pattern, string)"
   ]
  },
  {
   "cell_type": "markdown",
   "id": "precious-longitude",
   "metadata": {},
   "source": [
    "| | | | | | |\n",
    "|:-:|:-:|:-:|:-:|:-:|:-:|\n",
    "| | | | | | |\n",
    "|Pattern|`[0123456789]` |`[0123456789]` |\n",
    "||&#8595;|&#8595;|\n",
    "|String| `1`|`1`|"
   ]
  },
  {
   "cell_type": "markdown",
   "id": "controlling-christmas",
   "metadata": {},
   "source": [
    "Probably, you are thinking `[0123456789]` is quite verbose. What if we want to match all letters? Do we have to write `[abcdefghijklmnopqrstuvwxyz]`? \n",
    "\n",
    "**Step 2:** That would be a nightmare but luckily we can define a range for common sets. \n",
    "- `[0123456789]` can be represented as `[0-9]`\n",
    "- Lower case letters `[a-z]`\n",
    "- Upper case letters `[A-Z]`"
   ]
  },
  {
   "cell_type": "code",
   "execution_count": null,
   "id": "ambient-tackle",
   "metadata": {},
   "outputs": [],
   "source": [
    "# Single digit with range\n",
    "string = '2, 5 and 7 are odd numbers.'\n",
    "pattern = '[0-9]'\n",
    "re.findall(pattern, string)"
   ]
  },
  {
   "cell_type": "code",
   "execution_count": null,
   "id": "chronic-campaign",
   "metadata": {},
   "outputs": [],
   "source": [
    "# Two digits with range\n",
    "string = '11, 13 and 15 are odd numbers.'\n",
    "pattern = '[0-9][0-9]'\n",
    "re.findall(pattern, string)"
   ]
  },
  {
   "cell_type": "markdown",
   "id": "particular-device",
   "metadata": {},
   "source": [
    "**Task 2**\n",
    "\n",
    "Here is your second task. Define a pattern that returns lower case and upper case letters in a string.\n",
    "\n",
    "Example string: `'Word1 woRd2'`\n",
    "\n",
    "Output: `['W', 'o', 'r', 'd', 'w', 'o', 'R', 'd']`"
   ]
  },
  {
   "cell_type": "code",
   "execution_count": null,
   "id": "concerned-hybrid",
   "metadata": {},
   "outputs": [],
   "source": [
    "string = 'Word1 woRd2'\n",
    "pattern = # YOUR CODE HERE\n",
    "re.findall(pattern, string)"
   ]
  },
  {
   "cell_type": "markdown",
   "id": "accomplished-elephant",
   "metadata": {},
   "source": [
    "**Step 3:** But what if there are single and two digit numbers in one string?"
   ]
  },
  {
   "cell_type": "code",
   "execution_count": null,
   "id": "portable-entity",
   "metadata": {},
   "outputs": [],
   "source": [
    "# This won't work\n",
    "string = \"9, $13 and (15) are odd numbers.\"\n",
    "pattern = '[0-9]'\n",
    "re.findall(pattern, string)"
   ]
  },
  {
   "cell_type": "code",
   "execution_count": null,
   "id": "federal-passenger",
   "metadata": {},
   "outputs": [],
   "source": [
    "# This won't work either\n",
    "string = \"9, $13 and (15) are odd numbers.\"\n",
    "pattern = '[0-9][0-9]'\n",
    "re.findall(pattern, string)"
   ]
  },
  {
   "cell_type": "markdown",
   "id": "fresh-soccer",
   "metadata": {},
   "source": [
    "`+` character repeats a character one or more times\n",
    "\n",
    "therefore `[0-9]+` will match\n",
    "- [0-9]\n",
    "- [0-9][0-9]\n",
    "- [0-9][0-9][0-9]\n",
    "- [0-9][0-9][0-9][0-9]\n",
    "- ..."
   ]
  },
  {
   "cell_type": "code",
   "execution_count": null,
   "id": "clear-samba",
   "metadata": {},
   "outputs": [],
   "source": [
    "string = \"9, $13 and (15) are odd numbers.\"\n",
    "pattern = '[0-9]+'\n",
    "re.findall(pattern, string)"
   ]
  },
  {
   "cell_type": "markdown",
   "id": "material-guyana",
   "metadata": {},
   "source": [
    "Sets can be used to define characters that you don't want to match as well\n",
    "\n",
    "| Character | Description |\n",
    "| --- | --- |\n",
    "|[aeiou]|Matches a single character in the listed set|\n",
    "|[^XYZ]|Matches a single character not in the listed set|\n",
    "|[a-z0-9]|The set of characters can include a range|\n",
    "\n",
    "For example `[^0-9]` would match all the non-number characters:"
   ]
  },
  {
   "cell_type": "code",
   "execution_count": null,
   "id": "optional-guest",
   "metadata": {},
   "outputs": [],
   "source": [
    "string = \"123 abc 5d\"\n",
    "pattern = '[^0-9]'\n",
    "re.findall(pattern, string)"
   ]
  },
  {
   "cell_type": "markdown",
   "id": "possible-summer",
   "metadata": {},
   "source": [
    "**Task 3:** Find the number of apples in a string using regular expressions. The string can contain `'x apples'` any place.\n",
    "\n",
    "---\n",
    "\n",
    "Example string\n",
    "`'There are 15 apples in the basket.'`\n",
    "\n",
    "Expected output is `['15']`\n",
    "\n",
    "---\n",
    "\n",
    "Example string\n",
    "`'There are 15 apples and 20 oranges in the basket.'`\n",
    "\n",
    "Expected output is `['15']`\n",
    "\n",
    "---\n",
    "\n",
    "Example string\n",
    "`'5 apples here 10 apples there.'`\n",
    "\n",
    "Expected output is `['5', '10']`\n",
    "\n",
    "---\n",
    "\n",
    "Example string\n",
    "`'There is only 1 apple left.'`\n",
    "\n",
    "Expected output is `['1']`\n",
    "\n",
    "---\n",
    "For the following case, output can be an empty list.\n",
    "\n",
    "Example string\n",
    "`'I have an apple'`\n",
    "\n",
    "Expected output is `[]`\n",
    "\n"
   ]
  },
  {
   "cell_type": "code",
   "execution_count": null,
   "id": "cordless-cream",
   "metadata": {},
   "outputs": [],
   "source": [
    "string = 'There are 15 apples in the basket.'\n",
    "pattern = # YOUR CODE HERE\n",
    "re.findall(pattern, string)"
   ]
  },
  {
   "cell_type": "markdown",
   "id": "significant-niger",
   "metadata": {},
   "source": [
    "**Beginning/end of a string**\n",
    "\n",
    "Sometimes we are interested in matching beginning or end of a string. There are characters for that as well.\n",
    "\n",
    "| Character | Description |\n",
    "| --- | --- |\n",
    "|^|Matches the beginning of a line|\n",
    "|$|Matches the end of the line|"
   ]
  },
  {
   "cell_type": "code",
   "execution_count": null,
   "id": "acting-graphic",
   "metadata": {},
   "outputs": [],
   "source": [
    "# Find the number at the beginning of the string \n",
    "string = '1-There are 5 apples and 2 oranges in the basket.'\n",
    "pattern = '^[0-9]+'\n",
    "re.findall(pattern, string)"
   ]
  },
  {
   "cell_type": "markdown",
   "id": "matched-national",
   "metadata": {},
   "source": [
    "**Escape character**\n",
    "\n",
    "We use special characters in regular expressions such as a `.`. But what if we would like to match a `.` in a string? We need a way to indicate that these characters are “normal” and we want to match the actual character in a string.\n",
    "\n",
    "We can indicate that we want to simply match a character by prefixing that character with a backslash."
   ]
  },
  {
   "cell_type": "code",
   "execution_count": null,
   "id": "flush-weekend",
   "metadata": {},
   "outputs": [],
   "source": [
    "# Find all abbreviated titles\n",
    "string = \"Dr. A, Ms. B, Mr. C\"\n",
    "pattern = '...' # this won't work\n",
    "re.findall(pattern, string)"
   ]
  },
  {
   "cell_type": "code",
   "execution_count": null,
   "id": "removed-outreach",
   "metadata": {},
   "outputs": [],
   "source": [
    "# Find all abbreviated titles\n",
    "string = \"Dr. A, Ms. B, Mr. C\"\n",
    "pattern = '..\\.' # this will work\n",
    "re.findall(pattern, string)"
   ]
  },
  {
   "cell_type": "markdown",
   "id": "incoming-summer",
   "metadata": {},
   "source": [
    "**\\+ and * are greedy**\n",
    "\n",
    "\\+ and * repeats a character. But it is crucial to understand that they are greedy. Let's examine this behaviour with an example.\n",
    "\n",
    "Let's say you have the string\n",
    "\n",
    "`\"From: stephen.marquard@uct.ac.za, csev@umich.edu, and cwen @iupui.edu\"`\n",
    "\n",
    "and you would like to get the name of the first person after `'From:'`\n",
    "\n",
    "we can define a pattern such as\n",
    "`'From:\\s(.+)@'`\n",
    "\n",
    "expecting it to give us the name between `From:` and `@`. Let's see what happens."
   ]
  },
  {
   "cell_type": "code",
   "execution_count": null,
   "id": "hispanic-treaty",
   "metadata": {},
   "outputs": [],
   "source": [
    "# + will push until the last @ sign\n",
    "string = \"From: stephen.marquard@uct.ac.za, csev@umich.edu, and cwen @iupui.edu\"\n",
    "pattern = 'From:\\s(.+)@'\n",
    "re.findall(pattern, string)"
   ]
  },
  {
   "cell_type": "markdown",
   "id": "fantastic-sentence",
   "metadata": {},
   "source": [
    "We did not get the first name. But this is not because the pattern is not matching. It is because of the greedy behaviour of the `+` character. If we use `+?`, which is non-greedy, it will give us what we want."
   ]
  },
  {
   "cell_type": "code",
   "execution_count": null,
   "id": "sorted-crawford",
   "metadata": {},
   "outputs": [],
   "source": [
    "# you can use +? for a non-greedy repetition\n",
    "string = \"From: stephen.marquard@uct.ac.za, csev@umich.edu, and cwen @iupui.edu\"\n",
    "pattern = 'From:\\s(.+?)@'\n",
    "re.findall(pattern, string)"
   ]
  },
  {
   "cell_type": "markdown",
   "id": "imperial-absolute",
   "metadata": {},
   "source": [
    "If you read the `re.findall()` documentation it says the following:\n",
    "\n",
    "\"Return all **non-overlapping matches** of pattern in string, as a list of strings or tuples. The string is **scanned left-to-right**, and matches are returned in the order found. Empty matches are included in the result.\"\n",
    "\n",
    "The fact that `re.findall()` reads left-to-right and finds non-overlapping matches has important implications.\n",
    "\n",
    "Take a look at the example below:"
   ]
  },
  {
   "cell_type": "code",
   "execution_count": null,
   "id": "inner-madness",
   "metadata": {},
   "outputs": [],
   "source": [
    "string = \"123456\"\n",
    "pattern = '...'\n",
    "re.findall(pattern, string)"
   ]
  },
  {
   "cell_type": "markdown",
   "id": "future-plate",
   "metadata": {},
   "source": [
    "`'...'` matches `'234'` but it is not returned, why?\n",
    "\n",
    "This is because:\n",
    "\n",
    "- `re.findall()` reads from left-to-right,\n",
    "- finds the first match (`'123'` in this example),\n",
    "- continues scanning from the next character after the match (`'4'` in this example),\n",
    "- therefore \"non-overlapping\"."
   ]
  },
  {
   "cell_type": "markdown",
   "id": "therapeutic-stereo",
   "metadata": {},
   "source": [
    "**Task 4:** Given an arithmetic operation with nested parentheses, return the innermost parentheses and its contents.\n",
    "\n",
    "---\n",
    "\n",
    "Example string `\"(5 * (3 + 2)) - 7\"`\n",
    "\n",
    "Expected output is ['(3 + 2)']\n",
    "\n",
    "--- \n",
    "\n",
    "Example string `\"((7 - 2) * (1 + 2)) / 2\"`\n",
    "\n",
    "Expected output is ['(7 - 2)', '(1 + 2)']"
   ]
  },
  {
   "cell_type": "code",
   "execution_count": null,
   "id": "owned-korea",
   "metadata": {},
   "outputs": [],
   "source": [
    "string = \"((7 - 2) * (1 + 2)) / 2\"\n",
    "pattern = # YOUR CODE HERE\n",
    "re.findall(pattern, string)"
   ]
  },
  {
   "cell_type": "markdown",
   "id": "hollow-developer",
   "metadata": {},
   "source": [
    "We have covered the fundamentals of regular expressions. But there are many more characters. It is helpful to skim a cheatsheet and see what is possible.\n",
    "\n",
    "https://www.dataquest.io/wp-content/uploads/2019/03/python-regular-expressions-cheat-sheet.pdf\n",
    "\n",
    "Now to practice regular expressions, please continue with the following tasks."
   ]
  },
  {
   "cell_type": "markdown",
   "id": "white-moscow",
   "metadata": {},
   "source": [
    "# Task 5\n",
    "\n",
    "Given a list of tweets, remove links, hashtags and user handles from the tweets. Tweet processing will be essential for the creative brief. For this task, check the documentation for `re.sub()`.\n",
    "\n",
    "Example tweet:\n",
    "\n",
    "`'@BhaktisBanter @PallaviRuhail This one is irresistible :)\\n#FlipkartFashionFriday http://t.co/EbZ0L2VENM'`\n",
    "\n",
    "Expected output:\n",
    "\n",
    "`'This one is irresistible :)\\nFlipkartFashionFriday'`\n",
    "\n",
    "\n",
    "For this task you will use a sample twitter dataset from the nltk library."
   ]
  },
  {
   "cell_type": "code",
   "execution_count": null,
   "id": "prime-comparison",
   "metadata": {},
   "outputs": [],
   "source": [
    "import nltk\n",
    "from nltk.corpus import twitter_samples\n",
    "nltk.download('twitter_samples')\n",
    "all_positive_tweets = twitter_samples.strings('positive_tweets.json')\n",
    "all_negative_tweets = twitter_samples.strings('negative_tweets.json')\n",
    "tweets = all_positive_tweets + all_negative_tweets"
   ]
  },
  {
   "cell_type": "code",
   "execution_count": null,
   "id": "otherwise-bloom",
   "metadata": {},
   "outputs": [],
   "source": [
    "# Examine the first 10 tweets\n",
    "tweets[:10]"
   ]
  },
  {
   "cell_type": "code",
   "execution_count": null,
   "id": "simple-traffic",
   "metadata": {},
   "outputs": [],
   "source": [
    "string = '@BhaktisBanter @PallaviRuhail This one is irresistible :)\\n#FlipkartFashionFriday http://t.co/EbZ0L2VENM'\n",
    "processed_tw = # YOUR CODE HERE remove links\n",
    "processed_tw = # YOUR CODE HERE remove handles\n",
    "processed_tw = # YOUR CODE HERE remove hashtags"
   ]
  },
  {
   "cell_type": "markdown",
   "id": "mexican-exclusive",
   "metadata": {},
   "source": [
    "# Task 6\n",
    "\n",
    "Find all the emails inside the file `'mbox-short.txt'`. It is a collection of email messages and metadata.\n",
    "\n",
    "If you would like to know more about mbox files, read the following:\n",
    "https://en.wikipedia.org/wiki/Mbox"
   ]
  },
  {
   "cell_type": "code",
   "execution_count": null,
   "id": "brazilian-garbage",
   "metadata": {},
   "outputs": [],
   "source": [
    "# Let's examine the first 10 lines\n",
    "f = open('mbox-short.txt')\n",
    "counter = 0\n",
    "for line in f:\n",
    "    print(line)\n",
    "    counter += 1\n",
    "    if counter>=10:break\n",
    "f.close()"
   ]
  },
  {
   "cell_type": "markdown",
   "id": "wicked-protocol",
   "metadata": {},
   "source": [
    "Designing a pattern matching an email address requires the knowledge of syntax rules. The format of an email address is `local-part@domain`. Syntax rules for the local-part and the domain are different from each other and complex.\n",
    "\n",
    "For example the following is a valid email address:\n",
    "\n",
    "`\"very.(),:;<>[]\\\".VERY.\\\"very@\\\\ \\\"very\\\".unusual\"@strange.example.com`\n",
    "\n",
    "You can find all the rules here:\n",
    "https://en.wikipedia.org/wiki/Email_address#Syntax\n",
    "\n",
    "**For this task assume that a valid email address can contain:**\n",
    "\n",
    "- lowercase Latin letters `a` to `z`\n",
    "- digits `0` to `9`\n",
    "- dot `.`\n",
    "\n",
    "and nothing else. You should be able to find a total of 305 emails, 16 of which are unique.\n",
    "\n",
    "|id|email|count|\n",
    "|---|---|---|\n",
    "|0|`source@collab.sakaiproject.org`|135|\n",
    "|1|`postmaster@collab.sakaiproject.org`|27\n",
    "|2|`apache@localhost`|27|\n",
    "|3|`cwen@iupui.edu`|20|\n",
    "|4|`zqian@umich.edu`|17|\n",
    "|5|`david.horwitz@uct.ac.za`|17|\n",
    "|6|`louis@media.berkeley.edu`|12|\n",
    "|7|`gsilver@umich.edu`|12|\n",
    "|8|`stephen.marquard@uct.ac.za`|8|\n",
    "|9|`rjlowe@iupui.edu`|8|\n",
    "|10|`wagnermr@iupui.edu`|6|\n",
    "|11|`antranig@caret.cam.ac.uk`|4|\n",
    "|12|`gopal.ramasammycook@gmail.com`|4|\n",
    "|13|`ray@media.berkeley.edu`|4|\n",
    "|14|`hu2@iupui.edu`|2|\n",
    "|15|`josrodri@iupui.edu`|2|\n"
   ]
  },
  {
   "cell_type": "code",
   "execution_count": null,
   "id": "undefined-damages",
   "metadata": {},
   "outputs": [],
   "source": [
    "# YOUR CODE HERE"
   ]
  }
 ],
 "metadata": {
  "kernelspec": {
   "display_name": "Python 3",
   "language": "python",
   "name": "python3"
  },
  "language_info": {
   "codemirror_mode": {
    "name": "ipython",
    "version": 3
   },
   "file_extension": ".py",
   "mimetype": "text/x-python",
   "name": "python",
   "nbconvert_exporter": "python",
   "pygments_lexer": "ipython3",
   "version": "3.6.5"
  }
 },
 "nbformat": 4,
 "nbformat_minor": 5
}
