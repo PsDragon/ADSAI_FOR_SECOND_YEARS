{
  "nbformat": 4,
  "nbformat_minor": 0,
  "metadata": {
    "colab": {
      "name": "Tensor_solution.ipynb",
      "provenance": [],
      "include_colab_link": true
    },
    "kernelspec": {
      "name": "python3",
      "display_name": "Python 3"
    },
    "language_info": {
      "name": "python"
    }
  },
  "cells": [
    {
      "cell_type": "markdown",
      "metadata": {
        "id": "view-in-github",
        "colab_type": "text"
      },
      "source": [
        "<a href=\"https://colab.research.google.com/github/BredaUniversityADSAI/ADS-AI/blob/main/docs/assets/WorkshopsMaterialsAndFiles/Python/Tensor_solution.ipynb\" target=\"_parent\"><img src=\"https://colab.research.google.com/assets/colab-badge.svg\" alt=\"Open In Colab\"/></a>"
      ]
    },
    {
      "cell_type": "code",
      "source": [
        "import tensorflow as tf"
      ],
      "metadata": {
        "id": "Xm1tgW46gd4R"
      },
      "execution_count": null,
      "outputs": []
    },
    {
      "cell_type": "code",
      "execution_count": null,
      "metadata": {
        "id": "ISSXONGDZbsq"
      },
      "outputs": [],
      "source": [
        "x = tf.constant(4)\n",
        "print(x)"
      ]
    },
    {
      "cell_type": "code",
      "source": [
        "x = tf.constant(4, shape=(1,1), dtype=tf.float32)\n",
        "print(x)"
      ],
      "metadata": {
        "id": "sLRFcZzpjTNH"
      },
      "execution_count": null,
      "outputs": []
    },
    {
      "cell_type": "code",
      "source": [
        "x = tf.constant([1,2,3])\n",
        "print(x)"
      ],
      "metadata": {
        "id": "7YuULZW3kbDH"
      },
      "execution_count": null,
      "outputs": []
    },
    {
      "cell_type": "code",
      "source": [
        "x = tf.constant([[1,2,3], [4,5,6]])\n",
        "print(x)"
      ],
      "metadata": {
        "id": "uru5eDkDkpKP"
      },
      "execution_count": null,
      "outputs": []
    },
    {
      "cell_type": "code",
      "source": [
        "x = tf.ones((3,3))\n",
        "print(x)\n",
        "\n",
        "x = tf.zeros((3,3))\n",
        "print(x)\n",
        "\n",
        "x = tf.eye(3)\n",
        "print(x)"
      ],
      "metadata": {
        "id": "2eZXCKitlEXW"
      },
      "execution_count": null,
      "outputs": []
    },
    {
      "cell_type": "code",
      "source": [
        "x = tf.random.normal((3,3), mean=5, stddev=2)\n",
        "print(x)"
      ],
      "metadata": {
        "id": "E53zUEOXlz5n"
      },
      "execution_count": null,
      "outputs": []
    },
    {
      "cell_type": "code",
      "source": [
        "x = tf.random.uniform((3,3), minval=-1, maxval=1)\n",
        "print(x)"
      ],
      "metadata": {
        "id": "XYjx1miKo8x0"
      },
      "execution_count": null,
      "outputs": []
    },
    {
      "cell_type": "code",
      "source": [
        "x = tf.range(start=2, limit=12,delta=2)\n",
        "print(x)"
      ],
      "metadata": {
        "id": "IZaLihxbpei-"
      },
      "execution_count": null,
      "outputs": []
    },
    {
      "cell_type": "code",
      "source": [
        "x = tf.cast(x, dtype=tf.float32)\n",
        "print(x)"
      ],
      "metadata": {
        "id": "tdrmNFmDrDxd"
      },
      "execution_count": null,
      "outputs": []
    },
    {
      "cell_type": "code",
      "source": [
        "x = tf.constant([1,2,3])\n",
        "y = tf.constant([4,5,6])\n",
        "\n",
        "z = tf.add(x,y)\n",
        "z = x + y\n",
        "print(z)\n",
        "\n",
        "z = tf.subtract(x,y)\n",
        "z = x - y\n",
        "print(z)\n",
        "\n",
        "z = tf.divide(x,y)\n",
        "z = x / y\n",
        "print(z)\n",
        "\n",
        "z = tf.multiply(x,y)\n",
        "z = x * y\n",
        "print(z)\n",
        "\n",
        "z = 1 / y\n",
        "z = z * tf.cast(x, dtype=tf.double)\n",
        "print(z)"
      ],
      "metadata": {
        "id": "cWW-4GEKvAxD"
      },
      "execution_count": null,
      "outputs": []
    },
    {
      "cell_type": "code",
      "source": [
        "# matrix multiplication (shapes must match: number of columns A = number of rows B)\n",
        "x = tf.random.normal((2,3)) # 2,3\n",
        "y = tf.random.normal((3,4)) # 3,4\n",
        "\n",
        "z = tf.matmul(x,y)\n",
        "z = x @ y\n",
        "print(z)"
      ],
      "metadata": {
        "id": "64JR-ur4yeNp"
      },
      "execution_count": null,
      "outputs": []
    },
    {
      "cell_type": "code",
      "source": [
        "x = tf.constant([[1,2,3,4],[5,6,7,8]])\n",
        "print(x[0])\n",
        "print(x[:, 0]) # all rows, column 0\n",
        "print(x[1, :]) # row 1, all columns\n",
        "print(x[1,1]) # element at 1, 1"
      ],
      "metadata": {
        "id": "-JS7OSZQzU7p"
      },
      "execution_count": null,
      "outputs": []
    },
    {
      "cell_type": "code",
      "source": [
        "x = tf.constant([0, 1, 1, 2, 3, 1, 2, 3])\n",
        "print(x[:])\n",
        "print(x[1:])\n",
        "print(x[1:3])\n",
        "print(x[::2])\n",
        "print(x[::-1])"
      ],
      "metadata": {
        "id": "Do_TA9Ws8Bwl"
      },
      "execution_count": null,
      "outputs": []
    },
    {
      "cell_type": "code",
      "source": [
        "x = tf.constant([0, 1, 1, 2, 3, 1, 2, 3])\n",
        "indices = tf.constant([0, 3])\n",
        "x_indices = tf.gather(x, indices)\n",
        "print(x_indices)"
      ],
      "metadata": {
        "id": "g-2zk4xZ87Fl"
      },
      "execution_count": null,
      "outputs": []
    },
    {
      "cell_type": "code",
      "source": [
        "x = tf.constant([[1, 2], [3, 4], [5, 6]])\n",
        "\n",
        "print(x[0, :])\n",
        "print(x[0:2, :])"
      ],
      "metadata": {
        "id": "wQfMkhda9x9t"
      },
      "execution_count": null,
      "outputs": []
    },
    {
      "cell_type": "code",
      "source": [
        "# 5. reshape\n",
        "x = tf.random.normal((2,3))\n",
        "print(x)\n",
        "x = tf.reshape(x, (3,2))\n",
        "print(x)\n",
        "\n",
        "x = tf.reshape(x, (-1,2))\n",
        "print(x)\n",
        "\n",
        "x = tf.reshape(x, (6))\n",
        "print(x)"
      ],
      "metadata": {
        "id": "PWlfX2L43vvX"
      },
      "execution_count": null,
      "outputs": []
    }
  ]
}